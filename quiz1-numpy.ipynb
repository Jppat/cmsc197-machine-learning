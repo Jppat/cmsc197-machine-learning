{
 "cells": [
  {
   "cell_type": "markdown",
   "id": "56041359",
   "metadata": {},
   "source": [
    "<h1>CMSC 197 - 1 | Lec01.1-Quiz1 </h1>"
   ]
  },
  {
   "cell_type": "markdown",
   "id": "017f6a04",
   "metadata": {},
   "source": [
    "<h2>submitted by: John Patrick T. Panizales</h2>"
   ]
  },
  {
   "cell_type": "code",
   "execution_count": 2,
   "id": "9906ded5",
   "metadata": {},
   "outputs": [],
   "source": [
    "import numpy as np\n",
    "#try this"
   ]
  },
  {
   "cell_type": "markdown",
   "id": "34c5db0d",
   "metadata": {},
   "source": [
    "<h3>Part 1</h3>"
   ]
  },
  {
   "cell_type": "markdown",
   "id": "72b056b4",
   "metadata": {},
   "source": [
    "<ul>\n",
    "    <li>Create 2 2D arrays, y_hat and y</li>\n",
    "    <li>Initialize y_hat with 20 linearly spaced numbers between -1 and 1</li>\n",
    "    <li>Initialize y with 20 linearly spaced numbers between 0 and 1 </li>\n",
    "</ul>"
   ]
  },
  {
   "cell_type": "code",
   "execution_count": 77,
   "id": "4f34f412",
   "metadata": {},
   "outputs": [],
   "source": [
    "y_hat = np.linspace(-1,1, num=20)\n",
    "y = np.linspace(0,1,num=20)"
   ]
  },
  {
   "cell_type": "code",
   "execution_count": 78,
   "id": "33e8855c",
   "metadata": {},
   "outputs": [
    {
     "data": {
      "text/plain": [
       "array([-1.        , -0.89473684, -0.78947368, -0.68421053, -0.57894737,\n",
       "       -0.47368421, -0.36842105, -0.26315789, -0.15789474, -0.05263158,\n",
       "        0.05263158,  0.15789474,  0.26315789,  0.36842105,  0.47368421,\n",
       "        0.57894737,  0.68421053,  0.78947368,  0.89473684,  1.        ])"
      ]
     },
     "execution_count": 78,
     "metadata": {},
     "output_type": "execute_result"
    }
   ],
   "source": [
    "y_hat"
   ]
  },
  {
   "cell_type": "code",
   "execution_count": 79,
   "id": "9e032b59",
   "metadata": {},
   "outputs": [
    {
     "data": {
      "text/plain": [
       "array([0.        , 0.05263158, 0.10526316, 0.15789474, 0.21052632,\n",
       "       0.26315789, 0.31578947, 0.36842105, 0.42105263, 0.47368421,\n",
       "       0.52631579, 0.57894737, 0.63157895, 0.68421053, 0.73684211,\n",
       "       0.78947368, 0.84210526, 0.89473684, 0.94736842, 1.        ])"
      ]
     },
     "execution_count": 79,
     "metadata": {},
     "output_type": "execute_result"
    }
   ],
   "source": [
    "y"
   ]
  },
  {
   "cell_type": "markdown",
   "id": "9a1ce8b0",
   "metadata": {},
   "source": [
    "<p>Compute for the shape and dimension of y_hat and y.</p>"
   ]
  },
  {
   "cell_type": "code",
   "execution_count": 233,
   "id": "f71852c5",
   "metadata": {},
   "outputs": [
    {
     "name": "stdout",
     "output_type": "stream",
     "text": [
      "shape of y_hat: (20,)\n",
      "dimension of y_hat: 1\n"
     ]
    }
   ],
   "source": [
    "shape1 = y_hat.shape\n",
    "dim1 = y_hat.ndim\n",
    "print(\"shape of y_hat: {}\".format(shape1))\n",
    "print(\"dimension of y_hat: {}\".format(dim1))"
   ]
  },
  {
   "cell_type": "code",
   "execution_count": 234,
   "id": "d83a3594",
   "metadata": {},
   "outputs": [
    {
     "name": "stdout",
     "output_type": "stream",
     "text": [
      "shape of y: (20,)\n",
      "dimension of y: 1\n"
     ]
    }
   ],
   "source": [
    "shape2 = y.shape\n",
    "dim2 = y.ndim\n",
    "print(\"shape of y: {}\".format(shape2))\n",
    "print(\"dimension of y: {}\".format(dim2))"
   ]
  },
  {
   "cell_type": "markdown",
   "id": "b779036a",
   "metadata": {},
   "source": [
    "<ul>\n",
    "<li> Create individual functions for each of the loss functions with y and y_hat as parameters</li>\n",
    "<li>Each function should return the loss value (L)</li>\n",
    "</ul>"
   ]
  },
  {
   "cell_type": "markdown",
   "id": "4c81eb9e",
   "metadata": {},
   "source": [
    "<h3>Mean Squared Error</h3>"
   ]
  },
  {
   "cell_type": "code",
   "execution_count": 218,
   "id": "e15995c1",
   "metadata": {},
   "outputs": [
    {
     "data": {
      "text/plain": [
       "0.3421052631578948"
      ]
     },
     "execution_count": 218,
     "metadata": {},
     "output_type": "execute_result"
    }
   ],
   "source": [
    "def mse(y_hat, y):\n",
    "    # y_hat - y\n",
    "    subtract = y_hat - y\n",
    "    \n",
    "    # (y_hat - y) ^ 2\n",
    "    squared = subtract ** 2\n",
    "    \n",
    "    # summation of (y_hat - y) ^ 2 from 1 to N\n",
    "    summation = np.sum(squared)\n",
    "\n",
    "    # mean squared error\n",
    "    N = np.size(squared)\n",
    "    L = summation/N\n",
    "    \n",
    "    return L\n",
    "\n",
    "mse(y_hat,y)"
   ]
  },
  {
   "cell_type": "markdown",
   "id": "f09826bb",
   "metadata": {},
   "source": [
    "<h3>Mean Absolute Error (MAE)</h3>"
   ]
  },
  {
   "cell_type": "code",
   "execution_count": 223,
   "id": "aaca0e0d",
   "metadata": {},
   "outputs": [
    {
     "data": {
      "text/plain": [
       "0.4999999999999999"
      ]
     },
     "execution_count": 223,
     "metadata": {},
     "output_type": "execute_result"
    }
   ],
   "source": [
    "def mae(y_hat, y):\n",
    "    # y_hat - y\n",
    "    subtract = y_hat - y\n",
    "    \n",
    "    # summation of |y_hat - y| from 1 to N\n",
    "    summation = np.sum(np.absolute(subtract))\n",
    "    \n",
    "    # mean absolute error\n",
    "    N = np.size(subtract)\n",
    "    L = summation/N\n",
    "    \n",
    "    return L\n",
    "\n",
    "mae(y_hat,y)"
   ]
  },
  {
   "cell_type": "markdown",
   "id": "174e86a2",
   "metadata": {},
   "source": [
    "<h3>Mean Squared Logarithmic Error</h3>"
   ]
  },
  {
   "cell_type": "code",
   "execution_count": 230,
   "id": "1302147b",
   "metadata": {},
   "outputs": [
    {
     "name": "stdout",
     "output_type": "stream",
     "text": [
      "Cannot proceed with calucation. Values cannot be negative\n"
     ]
    }
   ],
   "source": [
    "def msle(y_hat, y):\n",
    "    if (np.all(y_hat >= 0)) and (np.all(y >= 0)):\n",
    "        y_hat_plus1 = y_hat + 1\n",
    "        y_plus1 = y + 1\n",
    "        \n",
    "        log_yhat = np.log10(y_hat_plus1)\n",
    "        log_y = np.log10(y_plus1)\n",
    "        #log(y_hat + 1) - log(y + 1)\n",
    "        sub_logs = log_yhat - log_y\n",
    "        squared = sub_logs ** 2\n",
    "        \n",
    "        # mean squared logarithmic error\n",
    "        summation = np.sum(squared)\n",
    "        N = np.size(squared)\n",
    "        L = summation/N\n",
    "        \n",
    "    else:\n",
    "        print(\"Cannot proceed with calculation. Values cannot be negative.\")\n",
    "    \n",
    "msle(y_hat,y)"
   ]
  },
  {
   "cell_type": "markdown",
   "id": "971ce7d3",
   "metadata": {},
   "source": [
    "<h3>Mean Absolute Percentage Error</h3>"
   ]
  },
  {
   "cell_type": "code",
   "execution_count": 275,
   "id": "03960dae",
   "metadata": {},
   "outputs": [
    {
     "name": "stdout",
     "output_type": "stream",
     "text": [
      "Cannot proceed. Values for y cannot be 0. Consider changing metric used.\n"
     ]
    }
   ],
   "source": [
    "def mape(y_hat, y):\n",
    "    if(np.any(y == 0)):\n",
    "        print(\"Cannot proceed. Values for y cannot be 0. Consider changing metric used.\")\n",
    "    else:\n",
    "        sub_div = (y_hat - y)/y\n",
    "\n",
    "        # summation of |(y_hat - y)/y| from 1 to N\n",
    "        summation = np.sum(np.absolute(sub_div))\n",
    "\n",
    "        # mean absolute error\n",
    "        N = np.size(subtract)\n",
    "        L = summation/N\n",
    "\n",
    "        return L\n",
    "\n",
    "mape(y_hat,y)"
   ]
  },
  {
   "cell_type": "markdown",
   "id": "6ba74eed",
   "metadata": {},
   "source": [
    "<h3>Part 2</h3>"
   ]
  },
  {
   "cell_type": "markdown",
   "id": "33d96d89",
   "metadata": {},
   "source": [
    "<p>1. Create a 1d array M {1, 2, …16} using the arange function</p>"
   ]
  },
  {
   "cell_type": "code",
   "execution_count": 7,
   "id": "f67f3860",
   "metadata": {},
   "outputs": [
    {
     "data": {
      "text/plain": [
       "array([ 1,  2,  3,  4,  5,  6,  7,  8,  9, 10, 11, 12, 13, 14, 15, 16])"
      ]
     },
     "execution_count": 7,
     "metadata": {},
     "output_type": "execute_result"
    }
   ],
   "source": [
    "M = np.array(np.arange(1,17))\n",
    "M"
   ]
  },
  {
   "cell_type": "markdown",
   "id": "dd7f3679",
   "metadata": {},
   "source": [
    "<p>2. Reshape M into 4x4 array and store it to N</p>"
   ]
  },
  {
   "cell_type": "code",
   "execution_count": 9,
   "id": "44abef26",
   "metadata": {},
   "outputs": [
    {
     "data": {
      "text/plain": [
       "array([[ 1,  2,  3,  4],\n",
       "       [ 5,  6,  7,  8],\n",
       "       [ 9, 10, 11, 12],\n",
       "       [13, 14, 15, 16]])"
      ]
     },
     "execution_count": 9,
     "metadata": {},
     "output_type": "execute_result"
    }
   ],
   "source": [
    "N = M.reshape(4,4)\n",
    "N"
   ]
  },
  {
   "cell_type": "markdown",
   "id": "5f06f97b",
   "metadata": {},
   "source": [
    "<p>3. Get the 2nd row of N</p>"
   ]
  },
  {
   "cell_type": "code",
   "execution_count": 284,
   "id": "067e4c73",
   "metadata": {},
   "outputs": [
    {
     "data": {
      "text/plain": [
       "array([[5, 6, 7, 8]])"
      ]
     },
     "execution_count": 284,
     "metadata": {},
     "output_type": "execute_result"
    }
   ],
   "source": [
    "second_row = N[1:2,]\n",
    "second_row"
   ]
  },
  {
   "cell_type": "markdown",
   "id": "02493106",
   "metadata": {},
   "source": [
    "<p>4. Get the minimum values for each column of N</p>"
   ]
  },
  {
   "cell_type": "code",
   "execution_count": 286,
   "id": "47d86b84",
   "metadata": {},
   "outputs": [
    {
     "data": {
      "text/plain": [
       "array([1, 2, 3, 4])"
      ]
     },
     "execution_count": 286,
     "metadata": {},
     "output_type": "execute_result"
    }
   ],
   "source": [
    "min_each_row = np.min(N, axis=0)\n",
    "min_each_row"
   ]
  },
  {
   "cell_type": "markdown",
   "id": "eae343ab",
   "metadata": {},
   "source": [
    "<p>5. Get the locations of the minimum values for each column of N</p>"
   ]
  },
  {
   "cell_type": "code",
   "execution_count": 290,
   "id": "5a2e15ba",
   "metadata": {},
   "outputs": [
    {
     "name": "stdout",
     "output_type": "stream",
     "text": [
      "[0] [0]\n",
      "[0] [1]\n",
      "[0] [2]\n",
      "[0] [3]\n"
     ]
    }
   ],
   "source": [
    "for each_min in min_each_row:\n",
    "    i,j = np.where(N == each_min)\n",
    "    print(i,j)"
   ]
  },
  {
   "cell_type": "markdown",
   "id": "be6e1fd3",
   "metadata": {},
   "source": [
    "<p>6. Get the average of the whole matrix</p>"
   ]
  },
  {
   "cell_type": "code",
   "execution_count": 29,
   "id": "010b1680",
   "metadata": {},
   "outputs": [
    {
     "data": {
      "text/plain": [
       "8.5"
      ]
     },
     "execution_count": 29,
     "metadata": {},
     "output_type": "execute_result"
    }
   ],
   "source": [
    "ave = np.average(N)\n",
    "ave"
   ]
  },
  {
   "cell_type": "markdown",
   "id": "c749d6e3",
   "metadata": {},
   "source": [
    "<p>7. Create a vector V with 4 elements, each element is 1</p>"
   ]
  },
  {
   "cell_type": "code",
   "execution_count": 152,
   "id": "803276a7",
   "metadata": {},
   "outputs": [
    {
     "data": {
      "text/plain": [
       "array([1, 1, 1, 1])"
      ]
     },
     "execution_count": 152,
     "metadata": {},
     "output_type": "execute_result"
    }
   ],
   "source": [
    "V = np.array([1,1,1,1]);\n",
    "V"
   ]
  },
  {
   "cell_type": "markdown",
   "id": "882eaea3",
   "metadata": {},
   "source": [
    "<p>8. Take the dot product of N and V</p>"
   ]
  },
  {
   "cell_type": "code",
   "execution_count": 72,
   "id": "92f48442",
   "metadata": {},
   "outputs": [
    {
     "data": {
      "text/plain": [
       "array([10, 26, 42, 58])"
      ]
     },
     "execution_count": 72,
     "metadata": {},
     "output_type": "execute_result"
    }
   ],
   "source": [
    "n_dot_v = np.dot(N,V)\n",
    "n_dot_v"
   ]
  }
 ],
 "metadata": {
  "kernelspec": {
   "display_name": "Python 3 (ipykernel)",
   "language": "python",
   "name": "python3"
  },
  "language_info": {
   "codemirror_mode": {
    "name": "ipython",
    "version": 3
   },
   "file_extension": ".py",
   "mimetype": "text/x-python",
   "name": "python",
   "nbconvert_exporter": "python",
   "pygments_lexer": "ipython3",
   "version": "3.9.12"
  }
 },
 "nbformat": 4,
 "nbformat_minor": 5
}
